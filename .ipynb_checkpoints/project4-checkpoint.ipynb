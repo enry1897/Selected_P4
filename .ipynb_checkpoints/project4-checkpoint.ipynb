{
  "cells": [
    {
      "cell_type": "code",
      "execution_count": 1,
      "id": "950ed67e-7557-4a3b-a244-5e44dc891228",
      "metadata": {
        "id": "950ed67e-7557-4a3b-a244-5e44dc891228"
      },
      "outputs": [],
      "source": [
        "import numpy as np\n",
        "import matplotlib.pyplot as plt\n",
        "from pathlib import Path\n",
        "import librosa\n",
        "import sklearn\n",
        "import tensorflow as tf\n",
        "from tensorflow.keras.callbacks import CSVLogger, EarlyStopping, ModelCheckpoint\n",
        "import pandas as pd\n",
        "from sklearn.metrics import classification_report\n",
        "from sklearn.metrics import confusion_matrix, ConfusionMatrixDisplay\n",
        "from sklearn.model_selection import train_test_split\n",
        "from sklearn.preprocessing import StandardScaler\n",
        "plt.style.use(\"seaborn-v0_8\")"
      ]
    },
    {
      "cell_type": "code",
      "execution_count": null,
      "id": "327c89a6-06c3-409a-9f45-9f99cb35b204",
      "metadata": {
        "id": "327c89a6-06c3-409a-9f45-9f99cb35b204"
      },
      "outputs": [],
      "source": [
        "fn_csv = 'scenes_stereo\\dcase2013_task1_filenamekey.csv'\n",
        "df = pd.read_csv(fn_csv)\n",
        "files = []\n",
        "labels = []\n",
        "files = df['decodedname']\n",
        "labels = df['label']\n",
        "print(len(files))\n",
        "print(len(labels))\n",
        "\n",
        "audio_path = 'scenes_stereo/scenes_stereo/'\n"
      ]
    },
    {
      "cell_type": "code",
      "execution_count": null,
      "id": "f37ad157-ec34-43e7-b1d7-20f96117b018",
      "metadata": {
        "scrolled": true,
        "id": "f37ad157-ec34-43e7-b1d7-20f96117b018"
      },
      "outputs": [],
      "source": [
        "import IPython.display as ipd\n",
        "from IPython.display import Audio\n",
        "signals_fs = [librosa.load(audio_path + file) for file in files]\n",
        "signals = [s[0] for s in signals_fs]\n",
        "fs = [s[1] for s in signals_fs]"
      ]
    },
    {
      "cell_type": "code",
      "execution_count": null,
      "id": "792a2285-28e5-4c00-b65c-98137a6f471d",
      "metadata": {
        "collapsed": true,
        "id": "792a2285-28e5-4c00-b65c-98137a6f471d"
      },
      "outputs": [],
      "source": [
        "for i in range(5):\n",
        "    print(labels[i])\n",
        "    ipd.display(Audio(data = signals[i], rate = fs[i]))"
      ]
    },
    {
      "cell_type": "code",
      "execution_count": null,
      "id": "e518db60-04d0-4f3d-bd55-ef9cee296810",
      "metadata": {
        "scrolled": true,
        "collapsed": true,
        "id": "e518db60-04d0-4f3d-bd55-ef9cee296810"
      },
      "outputs": [],
      "source": [
        "fs = 22050\n",
        "time_axis = np.arange(len(signals[0]))/fs\n",
        "\n",
        "for i in range(5):\n",
        "    plt.figure(figsize = (10, 5))\n",
        "    plt.xlabel('time (s)')\n",
        "    plt.plot(time_axis, signals[i])\n",
        "    plt.title(labels[i])\n",
        "    plt.show()"
      ]
    },
    {
      "cell_type": "code",
      "execution_count": null,
      "id": "72798d54-c0e0-4af5-be8c-e9f57a5db99c",
      "metadata": {
        "id": "72798d54-c0e0-4af5-be8c-e9f57a5db99c"
      },
      "outputs": [],
      "source": [
        "w = 512\n",
        "h = 256\n",
        "n = w\n",
        "\n",
        "X_mfcc = []\n",
        "for s in signals:\n",
        "    X_mfcc.append(librosa.feature.mfcc(y = s, sr = fs, n_fft = n, hop_length = h))"
      ]
    },
    {
      "cell_type": "code",
      "execution_count": null,
      "id": "ed1b79ed-ed80-4a97-9ab1-8796b42b0b57",
      "metadata": {
        "scrolled": true,
        "id": "ed1b79ed-ed80-4a97-9ab1-8796b42b0b57"
      },
      "outputs": [],
      "source": [
        "for X in X_mfcc:\n",
        "    plt.figure(figsize=(15,8));\n",
        "    librosa.display.specshow(X, sr=fs, hop_length = h, x_axis='time', cmap='viridis');\n",
        "    plt.clim(-40,None);\n",
        "    plt.colorbar();\n",
        "    plt.xlabel('Time [s]');\n",
        "    plt.ylabel('MFCC Coefficient');"
      ]
    },
    {
      "cell_type": "code",
      "execution_count": null,
      "id": "0621c69b-37e4-4071-b739-017924f2980c",
      "metadata": {
        "id": "0621c69b-37e4-4071-b739-017924f2980c"
      },
      "outputs": [],
      "source": []
    }
  ],
  "metadata": {
    "kernelspec": {
      "display_name": "Python 3",
      "language": "python",
      "name": "python3"
    },
    "language_info": {
      "codemirror_mode": {
        "name": "ipython",
        "version": 3
      },
      "file_extension": ".py",
      "mimetype": "text/x-python",
      "name": "python",
      "nbconvert_exporter": "python",
      "pygments_lexer": "ipython3",
      "version": "3.12.6"
    },
    "colab": {
      "provenance": []
    }
  },
  "nbformat": 4,
  "nbformat_minor": 5
}