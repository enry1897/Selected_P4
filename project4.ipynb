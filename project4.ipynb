{
 "cells": [
  {
   "cell_type": "code",
   "execution_count": 2,
   "id": "950ed67e-7557-4a3b-a244-5e44dc891228",
   "metadata": {},
   "outputs": [
    {
     "name": "stderr",
     "output_type": "stream",
     "text": [
      "2025-05-31 14:58:27.523460: I tensorflow/core/platform/cpu_feature_guard.cc:210] This TensorFlow binary is optimized to use available CPU instructions in performance-critical operations.\n",
      "To enable the following instructions: AVX2 FMA, in other operations, rebuild TensorFlow with the appropriate compiler flags.\n"
     ]
    }
   ],
   "source": [
    "import numpy as np\n",
    "import matplotlib.pyplot as plt\n",
    "from pathlib import Path\n",
    "import librosa\n",
    "import sklearn\n",
    "import tensorflow as tf\n",
    "from tensorflow.keras.callbacks import CSVLogger, EarlyStopping, ModelCheckpoint\n",
    "import pandas as pd\n",
    "from sklearn.metrics import classification_report\n",
    "from sklearn.metrics import confusion_matrix, ConfusionMatrixDisplay\n",
    "from sklearn.model_selection import train_test_split\n",
    "from sklearn.preprocessing import StandardScaler\n",
    "plt.style.use(\"seaborn-v0_8\")\n",
    "import os\n",
    "import soundfile as sf"
   ]
  },
  {
   "cell_type": "code",
   "execution_count": 3,
   "id": "327c89a6-06c3-409a-9f45-9f99cb35b204",
   "metadata": {},
   "outputs": [
    {
     "name": "stdout",
     "output_type": "stream",
     "text": [
      "200\n",
      "200\n"
     ]
    }
   ],
   "source": [
    "fn_csv = 'scenes_stereo/dcase2013_task1_filenamekey.csv'\n",
    "df = pd.read_csv(fn_csv)\n",
    "files = []\n",
    "labels = []\n",
    "files = df['decodedname']\n",
    "labels = df['label']\n",
    "print(len(files))\n",
    "print(len(labels))\n",
    "audio_path = 'scenes_stereo/scenes_stereo/'"
   ]
  },
  {
   "cell_type": "code",
   "execution_count": 4,
   "id": "aea07666-944e-412f-9312-cf3139c36ba5",
   "metadata": {},
   "outputs": [
    {
     "name": "stdout",
     "output_type": "stream",
     "text": [
      "['office' 'tube' 'restaurant' 'busystreet' 'bus' 'supermarket'\n",
      " 'openairmarket' 'park' 'quietstreet' 'tubestation']\n",
      "[2 8 6 1 0 7 3 4 5 9]\n",
      "['bus', 'busystreet', 'office', 'openairmarket', 'park', 'quietstreet', 'restaurant', 'supermarket', 'tube', 'tubestation']\n"
     ]
    }
   ],
   "source": [
    "from sklearn.preprocessing import LabelEncoder\n",
    "unique_labels = labels.unique()\n",
    "print(unique_labels)\n",
    "encoder = LabelEncoder()\n",
    "encoded_labels = encoder.fit_transform(unique_labels)\n",
    "print(encoded_labels)\n",
    "sorted_labels = [label for _, label in sorted(zip(encoded_labels, unique_labels))]\n",
    "print(sorted_labels)"
   ]
  },
  {
   "cell_type": "code",
   "execution_count": 5,
   "id": "43e27a37-ba07-4ad0-ae64-f5d6df088d97",
   "metadata": {},
   "outputs": [
    {
     "name": "stdout",
     "output_type": "stream",
     "text": [
      "150\n",
      "50\n",
      "150\n",
      "50\n"
     ]
    }
   ],
   "source": [
    "files_train, files_test, labels_train, labels_test = train_test_split(files, labels, test_size=50, random_state=42, shuffle=True)\n",
    "# specificando il random_state ad ogni run ci sarà sempre lo stesso split (riproducibilità)\n",
    "\n",
    "print(len(files_train))  # 150\n",
    "print(len(files_test))   # 50\n",
    "print(len(labels_train))  # 150\n",
    "print(len(labels_test))   # 50"
   ]
  },
  {
   "cell_type": "code",
   "execution_count": 18,
   "id": "b6b60ce1-debd-47b3-8c22-302fdba97d06",
   "metadata": {},
   "outputs": [],
   "source": [
    "import librosa\n",
    "\n",
    "augmented_data = []\n",
    "fast_files = []\n",
    "slow_files = []\n",
    "\n",
    "for i, file in enumerate(files_train):\n",
    "    signal, sr = librosa.load(audio_path + file)\n",
    "    label = labels_train.iloc[i]\n",
    "    base_name = os.path.splitext(file)[0]  # es: 'bus12.wav' → 'bus12'\n",
    "\n",
    "    # Aggiungi il segnale originale\n",
    "    augmented_data.append((signal, label, f\"{base_name}_orig.wav\"))\n",
    "\n",
    "    # Crea versioni augmentate\n",
    "    versions = {\n",
    "        'stretch_fast': librosa.effects.time_stretch(signal, rate=1.2), # da levare, peggiorano l'accuracy\n",
    "        'stretch_slow': librosa.effects.time_stretch(signal, rate=0.8), # idem\n",
    "        'pitch_up': librosa.effects.pitch_shift(signal, sr=sr, n_steps=2),\n",
    "        'pitch_down': librosa.effects.pitch_shift(signal, sr=sr, n_steps=-2)\n",
    "    }\n",
    "\n",
    "    # Aggiungi i segnali augmentati alla lista\n",
    "    for suffix, aug_signal in versions.items():\n",
    "        filename = f\"{base_name}_{suffix}.wav\"\n",
    "        augmented_data.append((aug_signal, label, filename))\n",
    "        if \"stretch_fast\" in suffix:\n",
    "            fast_files.append(filename)\n",
    "        elif \"stretch_slow\" in suffix:\n",
    "            slow_files.append(filename)"
   ]
  },
  {
   "cell_type": "code",
   "execution_count": 12,
   "id": "90365dd7-4bd3-482c-b06f-38ed17a36140",
   "metadata": {},
   "outputs": [
    {
     "name": "stdout",
     "output_type": "stream",
     "text": [
      "0\n",
      "0\n"
     ]
    }
   ],
   "source": [
    "print(len(fast_files))\n",
    "print(len(slow_files))"
   ]
  },
  {
   "cell_type": "code",
   "execution_count": 13,
   "id": "4469332a-858e-4147-a0e0-8aecdf57c5b1",
   "metadata": {},
   "outputs": [],
   "source": [
    "fs = 22050 # solo per assicurarsi che altre funzioni non la cambino"
   ]
  },
  {
   "cell_type": "code",
   "execution_count": 14,
   "id": "c546bf56-ccd8-483b-8113-482f00e21b02",
   "metadata": {},
   "outputs": [],
   "source": [
    "import os\n",
    "import soundfile as sf\n",
    "import shutil\n",
    "\n",
    "augmented_path = 'scenes_stereo_augmented/'\n",
    "\n",
    "# Cancella e ricrea la cartella\n",
    "if os.path.exists(augmented_path):\n",
    "    shutil.rmtree(augmented_path)\n",
    "os.makedirs(augmented_path)\n",
    "\n",
    "test_path = 'scenes_stereo_test/'\n",
    "os.makedirs(augmented_path, exist_ok=True)\n",
    "os.makedirs(test_path, exist_ok=True)\n",
    "\n",
    "\n",
    "files_train_aug = []\n",
    "labels_train_aug = []\n",
    "\n",
    "for i, (signal, label, filename) in enumerate(augmented_data):\n",
    "    filepath = os.path.join(augmented_path, filename)\n",
    "    if filename in fast_files:\n",
    "        signal_resampled = librosa.resample(signal, orig_sr=fs, target_sr=int(fs*1.2))\n",
    "        augmented_data[i] = (signal_resampled, label, filename)\n",
    "        sf.write(filepath, signal_resampled, int(fs*1.2))\n",
    "    elif filename in slow_files:\n",
    "        signal_resampled = librosa.resample(signal, orig_sr=fs, target_sr=int(fs*0.8))\n",
    "        augmented_data[i] = (signal_resampled, label, filename)\n",
    "        sf.write(filepath, signal_resampled, int(fs*0.8))\n",
    "    else:\n",
    "        sf.write(filepath, signal, fs)\n",
    "\n",
    "    files_train_aug.append(filename)\n",
    "    labels_train_aug.append(label)\n",
    "\n",
    "# ho resamplato i file stretchati in modo che avessero lo stesso numero di campioni degli altri"
   ]
  },
  {
   "cell_type": "code",
   "execution_count": 17,
   "id": "c389ce63-f97a-4434-b85d-f3396e9042c7",
   "metadata": {},
   "outputs": [
    {
     "name": "stdout",
     "output_type": "stream",
     "text": [
      "450\n",
      "50\n",
      "450\n",
      "50\n"
     ]
    }
   ],
   "source": [
    "print(len(files_train_aug))\n",
    "print(len(files_test))\n",
    "print(len(labels_train_aug))\n",
    "print(len(labels_test))"
   ]
  },
  {
   "cell_type": "code",
   "execution_count": 15,
   "id": "5620fc5e-9499-4d9e-88c4-618895b795b9",
   "metadata": {},
   "outputs": [
    {
     "name": "stdout",
     "output_type": "stream",
     "text": [
      "50\n",
      "50\n"
     ]
    }
   ],
   "source": [
    "signals_fs = [librosa.load(audio_path + file) for file in files_test]\n",
    "X_test = [s[0] for s in signals_fs]\n",
    "print(len(X_test))\n",
    "y_test = labels_test\n",
    "print(len(y_test))\n",
    "\n",
    "# test è ok, con X_test (segnali) e y_test (label)"
   ]
  },
  {
   "cell_type": "code",
   "execution_count": 16,
   "id": "a36c56ff-b2a6-4147-9dfc-ef25278dbeaa",
   "metadata": {},
   "outputs": [],
   "source": [
    "X_train = [s for s, l, f in augmented_data]\n",
    "y_train = [l for s, l, f in augmented_data]"
   ]
  },
  {
   "cell_type": "code",
   "execution_count": 17,
   "id": "7d509995-da6b-489a-82a0-ee697167cbdc",
   "metadata": {},
   "outputs": [
    {
     "name": "stdout",
     "output_type": "stream",
     "text": [
      "750\n",
      "750\n"
     ]
    }
   ],
   "source": [
    "print(len(X_train))\n",
    "print(len(y_train))\n",
    "\n",
    "# train è ok, con X_train (segnali) e y_train (label)"
   ]
  },
  {
   "cell_type": "code",
   "execution_count": 13,
   "id": "8d05153c-02a5-4ddd-a39b-9eee24fdd59a",
   "metadata": {},
   "outputs": [],
   "source": [
    "X_train = np.array(X_train)\n",
    "y_train = np.array(y_train)\n",
    "X_test = np.array(X_test)\n",
    "y_test = np.array(y_test)"
   ]
  },
  {
   "cell_type": "code",
   "execution_count": 14,
   "id": "07f26187-2002-4699-a6cb-73c19ff72cb0",
   "metadata": {},
   "outputs": [
    {
     "name": "stdout",
     "output_type": "stream",
     "text": [
      "(450, 661500)\n",
      "(450,)\n",
      "(50, 661500)\n",
      "(50,)\n"
     ]
    }
   ],
   "source": [
    "print(X_train.shape)\n",
    "print(y_train.shape)\n",
    "print(X_test.shape)\n",
    "print(y_test.shape)\n",
    "\n",
    "# (750, 661500)\n",
    "# (750, )\n",
    "# (50, 661500)\n",
    "# (50, )"
   ]
  },
  {
   "cell_type": "code",
   "execution_count": 15,
   "id": "59383244-3a1c-45e4-b03b-f4c80b2cc4fc",
   "metadata": {},
   "outputs": [
    {
     "ename": "NameError",
     "evalue": "name 'signals' is not defined",
     "output_type": "error",
     "traceback": [
      "\u001b[1;31m---------------------------------------------------------------------------\u001b[0m",
      "\u001b[1;31mNameError\u001b[0m                                 Traceback (most recent call last)",
      "Cell \u001b[1;32mIn[15], line 2\u001b[0m\n\u001b[0;32m      1\u001b[0m fs \u001b[38;5;241m=\u001b[39m \u001b[38;5;241m22050\u001b[39m \u001b[38;5;66;03m# non fa mai male ridichiararla\u001b[39;00m\n\u001b[1;32m----> 2\u001b[0m time_axis \u001b[38;5;241m=\u001b[39m np\u001b[38;5;241m.\u001b[39marange(\u001b[38;5;28mlen\u001b[39m(\u001b[43msignals\u001b[49m[\u001b[38;5;241m0\u001b[39m]))\u001b[38;5;241m/\u001b[39mfs\n",
      "\u001b[1;31mNameError\u001b[0m: name 'signals' is not defined"
     ]
    }
   ],
   "source": [
    "'''\n",
    "fs = 22050 # non fa mai male ridichiararla\n",
    "time_axis = np.arange(len(signals[0]))/fs\n",
    "'''"
   ]
  },
  {
   "cell_type": "code",
   "execution_count": null,
   "id": "e518db60-04d0-4f3d-bd55-ef9cee296810",
   "metadata": {
    "scrolled": true
   },
   "outputs": [],
   "source": [
    "'''\n",
    "\n",
    "for i in range(50):\n",
    "    plt.figure(figsize = (10, 5))\n",
    "    plt.xlabel('time (s)')\n",
    "    plt.plot(time_axis, X_test[i])\n",
    "    plt.show()\n",
    "    print(y_test[i])\n",
    "\n",
    "'''"
   ]
  },
  {
   "cell_type": "code",
   "execution_count": 16,
   "id": "8a4f5506-4008-421c-a0ca-b851417022c4",
   "metadata": {},
   "outputs": [],
   "source": [
    "w = 512\n",
    "h = 256\n",
    "n = 2048"
   ]
  },
  {
   "cell_type": "code",
   "execution_count": 17,
   "id": "756843a6-0bee-4be3-82cc-4c2861bb1f94",
   "metadata": {},
   "outputs": [],
   "source": [
    "scaler = StandardScaler()\n",
    "X_train = scaler.fit_transform(X_train)\n",
    "X_test = scaler.transform(X_test)"
   ]
  },
  {
   "cell_type": "code",
   "execution_count": 68,
   "id": "9bfcebaa-1eb3-4b09-a826-7e2c5769eb95",
   "metadata": {},
   "outputs": [],
   "source": [
    "def feature_extraction(x, fs, n, h):\n",
    "    zcr = librosa.feature.zero_crossing_rate(x, hop_length = h)\n",
    "    mean_zcr = np.mean(zcr)\n",
    "    std_zcr = np.std(zcr)\n",
    "    stft = np.abs(librosa.stft(x, n_fft=n, hop_length=h))**2\n",
    "    melspec = (librosa.feature.melspectrogram(S=stft, n_mels=128))\n",
    "    pcen_spec = librosa.pcen(melspec, sr=fs)\n",
    "    melspec = librosa.power_to_db(melspec)\n",
    "    mean_pcen = np.mean(pcen_spec)\n",
    "    std_pcen = np.std(pcen_spec)\n",
    "    delta_melspec = librosa.feature.delta(melspec)\n",
    "    delta2_melspec = librosa.feature.delta(delta_melspec)\n",
    "    mean_mel = np.mean(melspec)\n",
    "    std_mel = np.std(melspec)\n",
    "    mean_deltamel = np.mean(delta_melspec)\n",
    "    std_deltamel = np.std(delta_melspec)\n",
    "    mean_delta2mel = np.mean(delta2_melspec)\n",
    "    std_delta2mel = np.std(delta2_melspec)\n",
    "    C = np.abs(librosa.stft(x, n_fft = n, hop_length = h))\n",
    "    S = librosa.amplitude_to_db(C, ref = np.max)\n",
    "    spectral_flux = librosa.onset.onset_strength(S = S, sr = fs)\n",
    "    mean_spectral_flux = np.mean(spectral_flux)\n",
    "    std_spectral_flux = np.std(spectral_flux)\n",
    "    spectral_contrast = librosa.feature.spectral_contrast(S=stft, sr=fs)\n",
    "    mean_spectral_contrast = np.mean(spectral_contrast)\n",
    "    std_spectral_contrast = np.std(spectral_contrast)\n",
    "    tonnetz = librosa.feature.tonnetz(y=x, sr=fs)\n",
    "    mean_tonnetz = np.mean(tonnetz)\n",
    "    std_tonnetz = np.std(tonnetz)\n",
    "    \n",
    "    f_vector = np.concatenate(([mean_spectral_contrast, std_spectral_contrast], [mean_tonnetz, std_tonnetz], [mean_zcr, std_zcr], [mean_mel, std_mel], [mean_deltamel, std_deltamel], [mean_delta2mel, std_delta2mel], [mean_spectral_flux, std_spectral_flux], [mean_pcen, std_pcen]))\n",
    "    return f_vector"
   ]
  },
  {
   "cell_type": "code",
   "execution_count": 70,
   "id": "bf4f0de3-2e57-4b7b-ade1-d57eff17f8fb",
   "metadata": {
    "scrolled": true
   },
   "outputs": [],
   "source": [
    "f_vector_train = np.zeros((X_train.shape[0], 16))\n",
    "f_vector_test = np.zeros((X_test.shape[0], 16))\n",
    "# se aggiungete/togliete feature dal f_vector ricordatevi di cambiare la dimensione\n",
    "\n",
    "for i in range(0, X_train.shape[0]):\n",
    "    f_vector_train[i, :] = feature_extraction(X_train[i, :], fs = fs, n = n, h = h)\n",
    "for i in range(0, X_test.shape[0]):\n",
    "    f_vector_test[i, :] = feature_extraction(X_test[i, :], fs = fs, n = n, h = h)"
   ]
  },
  {
   "cell_type": "code",
   "execution_count": 63,
   "id": "f732428c-de1e-42d6-a71f-6ad031fb7f1d",
   "metadata": {},
   "outputs": [
    {
     "data": {
      "image/png": "[encoded data removed]",
      "text/plain": [
       "<Figure size 800x550 with 1 Axes>"
      ]
     },
     "metadata": {},
     "output_type": "display_data"
    }
   ],
   "source": [
    "from sklearn.decomposition import PCA\n",
    "pca = PCA()\n",
    "pca.fit(f_vector_train)\n",
    "\n",
    "explained_variance = np.cumsum(pca.explained_variance_ratio_)\n",
    "\n",
    "plt.plot(range(1, len(explained_variance) + 1), explained_variance, marker=\"o\")\n",
    "plt.xlabel(\"Numero di componenti\")\n",
    "plt.ylabel(\"Varianza cumulativa spiegata\")\n",
    "plt.title(\"Analisi della Varianza con PCA\")\n",
    "plt.grid()\n",
    "plt.show()"
   ]
  },
  {
   "cell_type": "code",
   "execution_count": null,
   "id": "a85c2efd-6230-41e5-b9fe-a1b9509481ab",
   "metadata": {},
   "outputs": [],
   "source": [
    "n_components = 4\n",
    "pca = PCA(n_components=n_components)\n",
    "pca.fit(f_vector_train)\n",
    "\n",
    "# Creiamo un dataframe per interpretare i pesi delle feature\n",
    "feature_names = [\"mean_zcr\", \"std_zcr\", \"mean_mel\", \"std_mel\", \"mean_deltamel\", \"std_deltamel\",\n",
    "                 \"mean_delta2mel\", \"std_delta2mel\", \"mean_spectral_flux\", \"std_spectral_flux\", \"mean_mfcc\", \"std_mfcc\"]\n",
    "\n",
    "loadings = pd.DataFrame(pca.components_.T, index=feature_names, columns=[f\"PC{i+1}\" for i in range(n_components)])\n",
    "print(loadings)"
   ]
  },
  {
   "cell_type": "code",
   "execution_count": null,
   "id": "22f4adde-bb49-49f0-a52b-2e6ff47dace6",
   "metadata": {},
   "outputs": [],
   "source": [
    "plt.figure(figsize=(12, 6))\n",
    "plt.plot(loadings)\n",
    "plt.title(\"Contributo delle feature nelle componenti PCA\")\n",
    "plt.show()"
   ]
  },
  {
   "cell_type": "code",
   "execution_count": null,
   "id": "8403bca6-b7fc-4f19-9ab1-85cfcf68dd57",
   "metadata": {},
   "outputs": [],
   "source": [
    "'''\n",
    "\n",
    "print(f_vector_train.shape)\n",
    "print(f_vector_train[0, :])\n",
    "print(f_vector_train[100, :])\n",
    "plt.plot(f_vector_train[0, :])\n",
    "\n",
    "'''"
   ]
  },
  {
   "cell_type": "code",
   "execution_count": 72,
   "id": "ab621b60-9506-451f-b98f-f1271e85fc8b",
   "metadata": {},
   "outputs": [
    {
     "name": "stdout",
     "output_type": "stream",
     "text": [
      "train:  0.7822222222222223\n",
      "test:  0.74\n"
     ]
    }
   ],
   "source": [
    "from sklearn.svm import SVC\n",
    "from sklearn.metrics import accuracy_score\n",
    "\n",
    "mod = SVC(kernel = 'linear', C = 100)\n",
    "mod.fit(f_vector_train, y_train)\n",
    "train_pred = mod.predict(f_vector_train)\n",
    "accuracy = accuracy_score(y_train, train_pred)\n",
    "print('train: ', accuracy)\n",
    "test_pred = mod.predict(f_vector_test)\n",
    "accuracy = accuracy_score(y_test, test_pred)\n",
    "print('test: ', accuracy)\n",
    "\n",
    "# overfitta!! togliendo mfcc dal feature_vector migliora, però forse il problema è che abbiamo troppi dati di train perché prima con solo 150 andava meglio"
   ]
  },
  {
   "cell_type": "code",
   "execution_count": null,
   "id": "7b0333ea-850d-4f8d-9ab8-e43315fda0b8",
   "metadata": {},
   "outputs": [],
   "source": [
    "# aug: 450 (solo pitch), 10 feature (no mfcc), C = 10000\n",
    "\n",
    "# acc train: 0.8\n",
    "# acc test: 0.72\n",
    "\n",
    "# con n = 2048 e h = 256, C = 100\n",
    "# acc train: 0.7\n",
    "# acc test: 0.74"
   ]
  },
  {
   "cell_type": "code",
   "execution_count": 73,
   "id": "d3e759d4-c463-46d7-9f1b-60e8167192f3",
   "metadata": {},
   "outputs": [
    {
     "name": "stdout",
     "output_type": "stream",
     "text": [
      "               precision    recall  f1-score   support\n",
      "\n",
      "          bus       0.97      0.95      0.96        39\n",
      "   busystreet       0.88      0.98      0.93        45\n",
      "       office       0.62      0.86      0.72        42\n",
      "openairmarket       0.83      0.95      0.89        42\n",
      "         park       0.55      0.44      0.49        48\n",
      "  quietstreet       0.72      0.69      0.70        45\n",
      "   restaurant       0.86      0.82      0.84        45\n",
      "  supermarket       0.80      0.81      0.81        54\n",
      "         tube       0.78      0.88      0.82        48\n",
      "  tubestation       0.87      0.48      0.62        42\n",
      "\n",
      "     accuracy                           0.78       450\n",
      "    macro avg       0.79      0.79      0.78       450\n",
      " weighted avg       0.79      0.78      0.77       450\n",
      "\n"
     ]
    },
    {
     "data": {
      "image/png": "[encoded data removed]",
      "text/plain": [
       "<Figure size 800x550 with 2 Axes>"
      ]
     },
     "metadata": {},
     "output_type": "display_data"
    }
   ],
   "source": [
    "cm_train = confusion_matrix(y_train, train_pred)\n",
    "(ConfusionMatrixDisplay(confusion_matrix = cm_train, display_labels = sorted_labels)).plot()\n",
    "\n",
    "rep = classification_report(y_train, train_pred)\n",
    "print(rep)\n",
    "\n",
    "''' \n",
    "male:\n",
    "recall di tubestation (falsi neg)\n",
    "tutto di park\n",
    "'''"
   ]
  },
  {
   "cell_type": "code",
   "execution_count": 76,
   "id": "76ccb1f3-74c1-47b0-b944-8af91114a2e2",
   "metadata": {},
   "outputs": [
    {
     "name": "stdout",
     "output_type": "stream",
     "text": [
      "               precision    recall  f1-score   support\n",
      "\n",
      "          bus       1.00      0.86      0.92         7\n",
      "   busystreet       0.56      1.00      0.71         5\n",
      "       office       0.86      1.00      0.92         6\n",
      "openairmarket       0.83      0.83      0.83         6\n",
      "         park       1.00      0.50      0.67         4\n",
      "  quietstreet       0.80      0.80      0.80         5\n",
      "   restaurant       0.57      0.80      0.67         5\n",
      "  supermarket       0.33      0.50      0.40         2\n",
      "         tube       0.80      1.00      0.89         4\n",
      "  tubestation       0.00      0.00      0.00         6\n",
      "\n",
      "     accuracy                           0.74        50\n",
      "    macro avg       0.68      0.73      0.68        50\n",
      " weighted avg       0.69      0.74      0.70        50\n",
      "\n"
     ]
    },
    {
     "data": {
      "image/png": "[encoded data removed]",
      "text/plain": [
       "<Figure size 800x550 with 2 Axes>"
      ]
     },
     "metadata": {},
     "output_type": "display_data"
    }
   ],
   "source": [
    "cm_test = confusion_matrix(y_test, test_pred)\n",
    "(ConfusionMatrixDisplay(confusion_matrix = cm_test, display_labels = sorted_labels)).plot()\n",
    "\n",
    "rep = classification_report(y_test, test_pred, zero_division = 0)\n",
    "print(rep)"
   ]
  },
  {
   "cell_type": "code",
   "execution_count": 41,
   "id": "c4dd541b-83ad-4de3-aeb7-44e8044a7b24",
   "metadata": {},
   "outputs": [
    {
     "name": "stdout",
     "output_type": "stream",
     "text": [
      "train:  0.44\n",
      "test:  0.4\n"
     ]
    }
   ],
   "source": [
    "from sklearn.neighbors import KNeighborsClassifier\n",
    "\n",
    "k = 10\n",
    "knn = KNeighborsClassifier(n_neighbors=k)\n",
    "\n",
    "# Allenare il modello\n",
    "knn.fit(f_vector_train, y_train)\n",
    "\n",
    "train_pred = knn.predict(f_vector_train)\n",
    "accuracy = accuracy_score(y_train, train_pred)\n",
    "print('train: ', accuracy)\n",
    "test_pred = knn.predict(f_vector_test)\n",
    "accuracy = accuracy_score(y_test, test_pred)\n",
    "print('test: ', accuracy)\n",
    "\n",
    "# decisamente no"
   ]
  },
  {
   "cell_type": "code",
   "execution_count": null,
   "id": "05557472-3177-4416-bee7-2fe31142c52e",
   "metadata": {},
   "outputs": [],
   "source": [
    "import tensorflow as tf\n",
    "from tensorflow.keras import layers, models\n",
    "\n",
    "def build_2d_cnn(input_shape=(128, 128, 1), num_classes=10):\n",
    "    model = models.Sequential()\n",
    "\n",
    "    # Block 1\n",
    "    model.add(layers.Conv2D(16, (3, 3), padding='same', activation='relu', input_shape=input_shape))\n",
    "    model.add(layers.BatchNormalization())\n",
    "    model.add(layers.MaxPooling2D((2, 2)))\n",
    "\n",
    "    # Block 2\n",
    "    model.add(layers.Conv2D(32, (3, 3), padding='same', activation='relu'))\n",
    "    model.add(layers.BatchNormalization())\n",
    "    model.add(layers.MaxPooling2D((2, 2)))\n",
    "\n",
    "    # Block 3\n",
    "    model.add(layers.Conv2D(64, (3, 3), padding='same', activation='relu'))\n",
    "    model.add(layers.BatchNormalization())\n",
    "    model.add(layers.GlobalAveragePooling2D())\n",
    "\n",
    "    # Dense\n",
    "    model.add(layers.Dense(64, activation='relu'))\n",
    "    model.add(layers.Dropout(0.3))\n",
    "    model.add(layers.Dense(num_classes, activation='softmax'))\n",
    "\n",
    "    return model\n"
   ]
  },
  {
   "cell_type": "code",
   "execution_count": null,
   "id": "5bad6fcf-0621-4d94-8101-534639e96efc",
   "metadata": {},
   "outputs": [],
   "source": [
    "model = build_2d_cnn(input_shape=(128, 128, 1), num_classes=10)\n",
    "\n",
    "model.compile(\n",
    "    optimizer='adam',\n",
    "    loss='sparse_categorical_crossentropy',  # o categorical_crossentropy se hai one-hot\n",
    "    metrics=['accuracy']\n",
    ")\n",
    "\n",
    "model.summary()\n"
   ]
  }
 ],
 "metadata": {
  "kernelspec": {
   "display_name": "Python 3 (ipykernel)",
   "language": "python",
   "name": "python3"
  },
  "language_info": {
   "codemirror_mode": {
    "name": "ipython",
    "version": 3
   },
   "file_extension": ".py",
   "mimetype": "text/x-python",
   "name": "python",
   "nbconvert_exporter": "python",
   "pygments_lexer": "ipython3",
   "version": "3.12.2"
  }
 },
 "nbformat": 4,
 "nbformat_minor": 5
}
